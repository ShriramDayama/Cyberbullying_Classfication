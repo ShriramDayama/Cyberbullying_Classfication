{
 "cells": [
  {
   "cell_type": "code",
   "execution_count": null,
   "metadata": {
    "id": "rUc7MqHxXJOc"
   },
   "outputs": [],
   "source": [
    "##Importing necessary libraries\n",
    "import re\n",
    "import numpy as np\n",
    "import pandas as pd\n",
    "import nltk\n",
    "import pickle\n",
    "from sklearn.model_selection  import train_test_split\n",
    "from sklearn.pipeline import Pipeline\n",
    "from sklearn.feature_extraction.text import TfidfVectorizer\n",
    "from sklearn.naive_bayes import MultinomialNB\n",
    "from sklearn.ensemble import RandomForestClassifier\n",
    "from sklearn.svm import SVC\n",
    "from xgboost import XGBClassifier\n",
    "from sklearn.metrics import classification_report\n",
    "from sklearn.model_selection import RandomizedSearchCV"
   ]
  },
  {
   "cell_type": "code",
   "execution_count": null,
   "metadata": {
    "colab": {
     "base_uri": "https://localhost:8080/"
    },
    "id": "7qQ-1MfjvWyf",
    "outputId": "93b46cef-b35b-41df-e953-5c08258147ae"
   },
   "outputs": [
    {
     "name": "stderr",
     "output_type": "stream",
     "text": [
      "[nltk_data] Downloading package stopwords to /root/nltk_data...\n",
      "[nltk_data]   Unzipping corpora/stopwords.zip.\n",
      "[nltk_data] Downloading package punkt to /root/nltk_data...\n",
      "[nltk_data]   Unzipping tokenizers/punkt.zip.\n",
      "[nltk_data] Downloading package wordnet to /root/nltk_data...\n"
     ]
    },
    {
     "data": {
      "text/plain": [
       "True"
      ]
     },
     "execution_count": 2,
     "metadata": {},
     "output_type": "execute_result"
    }
   ],
   "source": [
    "#Downloading necessary nltk packages\n",
    "nltk.download('stopwords')\n",
    "nltk.download('punkt')\n",
    "nltk.download('wordnet')"
   ]
  },
  {
   "cell_type": "code",
   "execution_count": null,
   "metadata": {
    "colab": {
     "base_uri": "https://localhost:8080/",
     "height": 206
    },
    "id": "OUo5_09zXVw6",
    "outputId": "b9179602-2dd1-4722-dcca-0bf1b5c16fc8"
   },
   "outputs": [
    {
     "data": {
      "text/html": [
       "\n",
       "  <div id=\"df-29706d7c-3a10-4b92-b840-59efef5cb9da\">\n",
       "    <div class=\"colab-df-container\">\n",
       "      <div>\n",
       "<style scoped>\n",
       "    .dataframe tbody tr th:only-of-type {\n",
       "        vertical-align: middle;\n",
       "    }\n",
       "\n",
       "    .dataframe tbody tr th {\n",
       "        vertical-align: top;\n",
       "    }\n",
       "\n",
       "    .dataframe thead th {\n",
       "        text-align: right;\n",
       "    }\n",
       "</style>\n",
       "<table border=\"1\" class=\"dataframe\">\n",
       "  <thead>\n",
       "    <tr style=\"text-align: right;\">\n",
       "      <th></th>\n",
       "      <th>Unnamed: 0</th>\n",
       "      <th>tweet_text</th>\n",
       "      <th>cyberbullying_type</th>\n",
       "    </tr>\n",
       "  </thead>\n",
       "  <tbody>\n",
       "    <tr>\n",
       "      <th>0</th>\n",
       "      <td>0</td>\n",
       "      <td>In other words #katandandre, your food was cra...</td>\n",
       "      <td>not_cyberbullying</td>\n",
       "    </tr>\n",
       "    <tr>\n",
       "      <th>1</th>\n",
       "      <td>1</td>\n",
       "      <td>Why is #aussietv so white? #MKR #theblock #ImA...</td>\n",
       "      <td>not_cyberbullying</td>\n",
       "    </tr>\n",
       "    <tr>\n",
       "      <th>2</th>\n",
       "      <td>2</td>\n",
       "      <td>@XochitlSuckkks a classy whore? Or more red ve...</td>\n",
       "      <td>not_cyberbullying</td>\n",
       "    </tr>\n",
       "    <tr>\n",
       "      <th>3</th>\n",
       "      <td>3</td>\n",
       "      <td>@Jason_Gio meh. :P  thanks for the heads up, b...</td>\n",
       "      <td>not_cyberbullying</td>\n",
       "    </tr>\n",
       "    <tr>\n",
       "      <th>4</th>\n",
       "      <td>4</td>\n",
       "      <td>@RudhoeEnglish This is an ISIS account pretend...</td>\n",
       "      <td>not_cyberbullying</td>\n",
       "    </tr>\n",
       "  </tbody>\n",
       "</table>\n",
       "</div>\n",
       "      <button class=\"colab-df-convert\" onclick=\"convertToInteractive('df-29706d7c-3a10-4b92-b840-59efef5cb9da')\"\n",
       "              title=\"Convert this dataframe to an interactive table.\"\n",
       "              style=\"display:none;\">\n",
       "        \n",
       "  <svg xmlns=\"http://www.w3.org/2000/svg\" height=\"24px\"viewBox=\"0 0 24 24\"\n",
       "       width=\"24px\">\n",
       "    <path d=\"M0 0h24v24H0V0z\" fill=\"none\"/>\n",
       "    <path d=\"M18.56 5.44l.94 2.06.94-2.06 2.06-.94-2.06-.94-.94-2.06-.94 2.06-2.06.94zm-11 1L8.5 8.5l.94-2.06 2.06-.94-2.06-.94L8.5 2.5l-.94 2.06-2.06.94zm10 10l.94 2.06.94-2.06 2.06-.94-2.06-.94-.94-2.06-.94 2.06-2.06.94z\"/><path d=\"M17.41 7.96l-1.37-1.37c-.4-.4-.92-.59-1.43-.59-.52 0-1.04.2-1.43.59L10.3 9.45l-7.72 7.72c-.78.78-.78 2.05 0 2.83L4 21.41c.39.39.9.59 1.41.59.51 0 1.02-.2 1.41-.59l7.78-7.78 2.81-2.81c.8-.78.8-2.07 0-2.86zM5.41 20L4 18.59l7.72-7.72 1.47 1.35L5.41 20z\"/>\n",
       "  </svg>\n",
       "      </button>\n",
       "      \n",
       "  <style>\n",
       "    .colab-df-container {\n",
       "      display:flex;\n",
       "      flex-wrap:wrap;\n",
       "      gap: 12px;\n",
       "    }\n",
       "\n",
       "    .colab-df-convert {\n",
       "      background-color: #E8F0FE;\n",
       "      border: none;\n",
       "      border-radius: 50%;\n",
       "      cursor: pointer;\n",
       "      display: none;\n",
       "      fill: #1967D2;\n",
       "      height: 32px;\n",
       "      padding: 0 0 0 0;\n",
       "      width: 32px;\n",
       "    }\n",
       "\n",
       "    .colab-df-convert:hover {\n",
       "      background-color: #E2EBFA;\n",
       "      box-shadow: 0px 1px 2px rgba(60, 64, 67, 0.3), 0px 1px 3px 1px rgba(60, 64, 67, 0.15);\n",
       "      fill: #174EA6;\n",
       "    }\n",
       "\n",
       "    [theme=dark] .colab-df-convert {\n",
       "      background-color: #3B4455;\n",
       "      fill: #D2E3FC;\n",
       "    }\n",
       "\n",
       "    [theme=dark] .colab-df-convert:hover {\n",
       "      background-color: #434B5C;\n",
       "      box-shadow: 0px 1px 3px 1px rgba(0, 0, 0, 0.15);\n",
       "      filter: drop-shadow(0px 1px 2px rgba(0, 0, 0, 0.3));\n",
       "      fill: #FFFFFF;\n",
       "    }\n",
       "  </style>\n",
       "\n",
       "      <script>\n",
       "        const buttonEl =\n",
       "          document.querySelector('#df-29706d7c-3a10-4b92-b840-59efef5cb9da button.colab-df-convert');\n",
       "        buttonEl.style.display =\n",
       "          google.colab.kernel.accessAllowed ? 'block' : 'none';\n",
       "\n",
       "        async function convertToInteractive(key) {\n",
       "          const element = document.querySelector('#df-29706d7c-3a10-4b92-b840-59efef5cb9da');\n",
       "          const dataTable =\n",
       "            await google.colab.kernel.invokeFunction('convertToInteractive',\n",
       "                                                     [key], {});\n",
       "          if (!dataTable) return;\n",
       "\n",
       "          const docLinkHtml = 'Like what you see? Visit the ' +\n",
       "            '<a target=\"_blank\" href=https://colab.research.google.com/notebooks/data_table.ipynb>data table notebook</a>'\n",
       "            + ' to learn more about interactive tables.';\n",
       "          element.innerHTML = '';\n",
       "          dataTable['output_type'] = 'display_data';\n",
       "          await google.colab.output.renderOutput(dataTable, element);\n",
       "          const docLink = document.createElement('div');\n",
       "          docLink.innerHTML = docLinkHtml;\n",
       "          element.appendChild(docLink);\n",
       "        }\n",
       "      </script>\n",
       "    </div>\n",
       "  </div>\n",
       "  "
      ],
      "text/plain": [
       "   Unnamed: 0                                         tweet_text  \\\n",
       "0           0  In other words #katandandre, your food was cra...   \n",
       "1           1  Why is #aussietv so white? #MKR #theblock #ImA...   \n",
       "2           2  @XochitlSuckkks a classy whore? Or more red ve...   \n",
       "3           3  @Jason_Gio meh. :P  thanks for the heads up, b...   \n",
       "4           4  @RudhoeEnglish This is an ISIS account pretend...   \n",
       "\n",
       "  cyberbullying_type  \n",
       "0  not_cyberbullying  \n",
       "1  not_cyberbullying  \n",
       "2  not_cyberbullying  \n",
       "3  not_cyberbullying  \n",
       "4  not_cyberbullying  "
      ]
     },
     "execution_count": 3,
     "metadata": {},
     "output_type": "execute_result"
    }
   ],
   "source": [
    "##Loading dataset\n",
    "df = pd.read_csv('https://raw.githubusercontent.com/ShriramDayama/Cyberbulllying_Claissfication/main/cyberbullying_tweets.csv')\n",
    "df.head()"
   ]
  },
  {
   "cell_type": "markdown",
   "metadata": {
    "id": "7x9l6Dx1rSZI"
   },
   "source": [
    "# **Exploratory Data Analysis**"
   ]
  },
  {
   "cell_type": "code",
   "execution_count": null,
   "metadata": {
    "colab": {
     "base_uri": "https://localhost:8080/"
    },
    "id": "gtiwzUP4Xg9i",
    "outputId": "eb0e2cef-6a98-4f32-c3f8-d98002213d39"
   },
   "outputs": [
    {
     "data": {
      "text/plain": [
       "religion             7998\n",
       "age                  7992\n",
       "gender               7973\n",
       "ethnicity            7961\n",
       "not_cyberbullying    7945\n",
       "Name: cyberbullying_type, dtype: int64"
      ]
     },
     "execution_count": 4,
     "metadata": {},
     "output_type": "execute_result"
    }
   ],
   "source": [
    "df.cyberbullying_type.value_counts()"
   ]
  },
  {
   "cell_type": "markdown",
   "metadata": {
    "id": "jnkuiUGOrggg"
   },
   "source": [
    "# **Preprocessing Data**"
   ]
  },
  {
   "cell_type": "code",
   "execution_count": null,
   "metadata": {
    "id": "Mgt6boFWtWaw"
   },
   "outputs": [],
   "source": [
    "#Converting cyberbullying type into numerical values\n",
    "dict_map = {'not_cyberbullying' : 0, \n",
    "            'religion' : 1,\n",
    "            'age' : 2,\n",
    "            'gender' : 3,\n",
    "            'ethnicity' : 4,\n",
    "            }\n",
    "\n",
    "df['cb_type'] = df['cyberbullying_type'].map(dict_map, na_action = None)"
   ]
  },
  {
   "cell_type": "code",
   "execution_count": null,
   "metadata": {
    "id": "PM86p4JG5peH"
   },
   "outputs": [],
   "source": [
    "#defining a function for preprocessing the tweets\n",
    "def preprocess(string):\n",
    "  pattern = \"[#|@][^\\s]*|https://[^\\s]|www\\.[^\\s]\"\n",
    "\n",
    "\n",
    "  emoji_pattern = re.compile(\n",
    "    \"[\"\n",
    "    u\"\\U0001F600-\\U0001F64F\"\n",
    "    u\"\\U0001F300-\\U0001F5FF\"\n",
    "    u\"\\U0001F680-\\U0001F6FF\"\n",
    "    u\"\\U0001F1E0-\\U0001F1FF\"\n",
    "    u\"\\U00002702-\\U000027B0\"\n",
    "    u\"\\U000024C2-\\U0001F251\"\n",
    "    \"]+\"\n",
    "    ,flags = re.UNICODE,\n",
    "  )\n",
    "\n",
    "  \n",
    "  stop_words = set(nltk.corpus.stopwords.words('english'))\n",
    "  \n",
    "  string = re.sub(pattern , \"\", string)\n",
    "  string = re.sub(emoji_pattern, \"\", string)\n",
    "\n",
    "  tokenizer = nltk.tokenize.RegexpTokenizer(r'\\w+')\n",
    "  string = tokenizer.tokenize(string)\n",
    "\n",
    "  lemmatizer = nltk.stem.WordNetLemmatizer()\n",
    "  string = [lemmatizer.lemmatize(word) for word in string]\n",
    "  \n",
    "  string = ' '.join(string)\n",
    "  return string"
   ]
  },
  {
   "cell_type": "code",
   "execution_count": null,
   "metadata": {
    "colab": {
     "base_uri": "https://localhost:8080/",
     "height": 35
    },
    "id": "mKTKUh6w6fhK",
    "outputId": "c0cdf10e-5a65-4ce1-d996-5b9a9cc7ef1f"
   },
   "outputs": [
    {
     "data": {
      "application/vnd.google.colaboratory.intrinsic+json": {
       "type": "string"
      },
      "text/plain": [
       "'In other word your food wa crapilicious'"
      ]
     },
     "execution_count": 7,
     "metadata": {},
     "output_type": "execute_result"
    }
   ],
   "source": [
    "# Testing the preprocess function\n",
    "sent = df.tweet_text[0]\n",
    "psent = preprocess(sent)\n",
    "psent"
   ]
  },
  {
   "cell_type": "code",
   "execution_count": null,
   "metadata": {
    "colab": {
     "base_uri": "https://localhost:8080/",
     "height": 659
    },
    "id": "d1D-G7Ym9DC7",
    "outputId": "5588f4d7-3b3b-4c38-bd91-72932bb4b1c4"
   },
   "outputs": [
    {
     "data": {
      "text/html": [
       "\n",
       "  <div id=\"df-44254121-490e-4ea2-a765-96fbd2942379\">\n",
       "    <div class=\"colab-df-container\">\n",
       "      <div>\n",
       "<style scoped>\n",
       "    .dataframe tbody tr th:only-of-type {\n",
       "        vertical-align: middle;\n",
       "    }\n",
       "\n",
       "    .dataframe tbody tr th {\n",
       "        vertical-align: top;\n",
       "    }\n",
       "\n",
       "    .dataframe thead th {\n",
       "        text-align: right;\n",
       "    }\n",
       "</style>\n",
       "<table border=\"1\" class=\"dataframe\">\n",
       "  <thead>\n",
       "    <tr style=\"text-align: right;\">\n",
       "      <th></th>\n",
       "      <th>Unnamed: 0</th>\n",
       "      <th>tweet_text</th>\n",
       "      <th>cyberbullying_type</th>\n",
       "      <th>cb_type</th>\n",
       "      <th>processed_tweets</th>\n",
       "    </tr>\n",
       "  </thead>\n",
       "  <tbody>\n",
       "    <tr>\n",
       "      <th>0</th>\n",
       "      <td>0</td>\n",
       "      <td>In other words #katandandre, your food was cra...</td>\n",
       "      <td>not_cyberbullying</td>\n",
       "      <td>0</td>\n",
       "      <td>In other word your food wa crapilicious</td>\n",
       "    </tr>\n",
       "    <tr>\n",
       "      <th>1</th>\n",
       "      <td>1</td>\n",
       "      <td>Why is #aussietv so white? #MKR #theblock #ImA...</td>\n",
       "      <td>not_cyberbullying</td>\n",
       "      <td>0</td>\n",
       "      <td>Why is so white</td>\n",
       "    </tr>\n",
       "    <tr>\n",
       "      <th>2</th>\n",
       "      <td>2</td>\n",
       "      <td>@XochitlSuckkks a classy whore? Or more red ve...</td>\n",
       "      <td>not_cyberbullying</td>\n",
       "      <td>0</td>\n",
       "      <td>a classy whore Or more red velvet cupcake</td>\n",
       "    </tr>\n",
       "    <tr>\n",
       "      <th>3</th>\n",
       "      <td>3</td>\n",
       "      <td>@Jason_Gio meh. :P  thanks for the heads up, b...</td>\n",
       "      <td>not_cyberbullying</td>\n",
       "      <td>0</td>\n",
       "      <td>meh P thanks for the head up but not too conce...</td>\n",
       "    </tr>\n",
       "    <tr>\n",
       "      <th>4</th>\n",
       "      <td>4</td>\n",
       "      <td>@RudhoeEnglish This is an ISIS account pretend...</td>\n",
       "      <td>not_cyberbullying</td>\n",
       "      <td>0</td>\n",
       "      <td>This is an ISIS account pretending to be a Kur...</td>\n",
       "    </tr>\n",
       "    <tr>\n",
       "      <th>...</th>\n",
       "      <td>...</td>\n",
       "      <td>...</td>\n",
       "      <td>...</td>\n",
       "      <td>...</td>\n",
       "      <td>...</td>\n",
       "    </tr>\n",
       "    <tr>\n",
       "      <th>39864</th>\n",
       "      <td>47687</td>\n",
       "      <td>Black ppl aren't expected to do anything, depe...</td>\n",
       "      <td>ethnicity</td>\n",
       "      <td>4</td>\n",
       "      <td>Black ppl aren t expected to do anything depen...</td>\n",
       "    </tr>\n",
       "    <tr>\n",
       "      <th>39865</th>\n",
       "      <td>47688</td>\n",
       "      <td>Turner did not withhold his disappointment. Tu...</td>\n",
       "      <td>ethnicity</td>\n",
       "      <td>4</td>\n",
       "      <td>Turner did not withhold his disappointment Tur...</td>\n",
       "    </tr>\n",
       "    <tr>\n",
       "      <th>39866</th>\n",
       "      <td>47689</td>\n",
       "      <td>I swear to God. This dumb nigger bitch. I have...</td>\n",
       "      <td>ethnicity</td>\n",
       "      <td>4</td>\n",
       "      <td>I swear to God This dumb nigger bitch I have g...</td>\n",
       "    </tr>\n",
       "    <tr>\n",
       "      <th>39867</th>\n",
       "      <td>47690</td>\n",
       "      <td>Yea fuck you RT @therealexel: IF YOURE A NIGGE...</td>\n",
       "      <td>ethnicity</td>\n",
       "      <td>4</td>\n",
       "      <td>Yea fuck you RT IF YOURE A NIGGER FUCKING UNFO...</td>\n",
       "    </tr>\n",
       "    <tr>\n",
       "      <th>39868</th>\n",
       "      <td>47691</td>\n",
       "      <td>Bro. U gotta chill RT @CHILLShrammy: Dog FUCK ...</td>\n",
       "      <td>ethnicity</td>\n",
       "      <td>4</td>\n",
       "      <td>Bro U gotta chill RT Dog FUCK KP that dumb nig...</td>\n",
       "    </tr>\n",
       "  </tbody>\n",
       "</table>\n",
       "<p>39869 rows × 5 columns</p>\n",
       "</div>\n",
       "      <button class=\"colab-df-convert\" onclick=\"convertToInteractive('df-44254121-490e-4ea2-a765-96fbd2942379')\"\n",
       "              title=\"Convert this dataframe to an interactive table.\"\n",
       "              style=\"display:none;\">\n",
       "        \n",
       "  <svg xmlns=\"http://www.w3.org/2000/svg\" height=\"24px\"viewBox=\"0 0 24 24\"\n",
       "       width=\"24px\">\n",
       "    <path d=\"M0 0h24v24H0V0z\" fill=\"none\"/>\n",
       "    <path d=\"M18.56 5.44l.94 2.06.94-2.06 2.06-.94-2.06-.94-.94-2.06-.94 2.06-2.06.94zm-11 1L8.5 8.5l.94-2.06 2.06-.94-2.06-.94L8.5 2.5l-.94 2.06-2.06.94zm10 10l.94 2.06.94-2.06 2.06-.94-2.06-.94-.94-2.06-.94 2.06-2.06.94z\"/><path d=\"M17.41 7.96l-1.37-1.37c-.4-.4-.92-.59-1.43-.59-.52 0-1.04.2-1.43.59L10.3 9.45l-7.72 7.72c-.78.78-.78 2.05 0 2.83L4 21.41c.39.39.9.59 1.41.59.51 0 1.02-.2 1.41-.59l7.78-7.78 2.81-2.81c.8-.78.8-2.07 0-2.86zM5.41 20L4 18.59l7.72-7.72 1.47 1.35L5.41 20z\"/>\n",
       "  </svg>\n",
       "      </button>\n",
       "      \n",
       "  <style>\n",
       "    .colab-df-container {\n",
       "      display:flex;\n",
       "      flex-wrap:wrap;\n",
       "      gap: 12px;\n",
       "    }\n",
       "\n",
       "    .colab-df-convert {\n",
       "      background-color: #E8F0FE;\n",
       "      border: none;\n",
       "      border-radius: 50%;\n",
       "      cursor: pointer;\n",
       "      display: none;\n",
       "      fill: #1967D2;\n",
       "      height: 32px;\n",
       "      padding: 0 0 0 0;\n",
       "      width: 32px;\n",
       "    }\n",
       "\n",
       "    .colab-df-convert:hover {\n",
       "      background-color: #E2EBFA;\n",
       "      box-shadow: 0px 1px 2px rgba(60, 64, 67, 0.3), 0px 1px 3px 1px rgba(60, 64, 67, 0.15);\n",
       "      fill: #174EA6;\n",
       "    }\n",
       "\n",
       "    [theme=dark] .colab-df-convert {\n",
       "      background-color: #3B4455;\n",
       "      fill: #D2E3FC;\n",
       "    }\n",
       "\n",
       "    [theme=dark] .colab-df-convert:hover {\n",
       "      background-color: #434B5C;\n",
       "      box-shadow: 0px 1px 3px 1px rgba(0, 0, 0, 0.15);\n",
       "      filter: drop-shadow(0px 1px 2px rgba(0, 0, 0, 0.3));\n",
       "      fill: #FFFFFF;\n",
       "    }\n",
       "  </style>\n",
       "\n",
       "      <script>\n",
       "        const buttonEl =\n",
       "          document.querySelector('#df-44254121-490e-4ea2-a765-96fbd2942379 button.colab-df-convert');\n",
       "        buttonEl.style.display =\n",
       "          google.colab.kernel.accessAllowed ? 'block' : 'none';\n",
       "\n",
       "        async function convertToInteractive(key) {\n",
       "          const element = document.querySelector('#df-44254121-490e-4ea2-a765-96fbd2942379');\n",
       "          const dataTable =\n",
       "            await google.colab.kernel.invokeFunction('convertToInteractive',\n",
       "                                                     [key], {});\n",
       "          if (!dataTable) return;\n",
       "\n",
       "          const docLinkHtml = 'Like what you see? Visit the ' +\n",
       "            '<a target=\"_blank\" href=https://colab.research.google.com/notebooks/data_table.ipynb>data table notebook</a>'\n",
       "            + ' to learn more about interactive tables.';\n",
       "          element.innerHTML = '';\n",
       "          dataTable['output_type'] = 'display_data';\n",
       "          await google.colab.output.renderOutput(dataTable, element);\n",
       "          const docLink = document.createElement('div');\n",
       "          docLink.innerHTML = docLinkHtml;\n",
       "          element.appendChild(docLink);\n",
       "        }\n",
       "      </script>\n",
       "    </div>\n",
       "  </div>\n",
       "  "
      ],
      "text/plain": [
       "       Unnamed: 0                                         tweet_text  \\\n",
       "0               0  In other words #katandandre, your food was cra...   \n",
       "1               1  Why is #aussietv so white? #MKR #theblock #ImA...   \n",
       "2               2  @XochitlSuckkks a classy whore? Or more red ve...   \n",
       "3               3  @Jason_Gio meh. :P  thanks for the heads up, b...   \n",
       "4               4  @RudhoeEnglish This is an ISIS account pretend...   \n",
       "...           ...                                                ...   \n",
       "39864       47687  Black ppl aren't expected to do anything, depe...   \n",
       "39865       47688  Turner did not withhold his disappointment. Tu...   \n",
       "39866       47689  I swear to God. This dumb nigger bitch. I have...   \n",
       "39867       47690  Yea fuck you RT @therealexel: IF YOURE A NIGGE...   \n",
       "39868       47691  Bro. U gotta chill RT @CHILLShrammy: Dog FUCK ...   \n",
       "\n",
       "      cyberbullying_type  cb_type  \\\n",
       "0      not_cyberbullying        0   \n",
       "1      not_cyberbullying        0   \n",
       "2      not_cyberbullying        0   \n",
       "3      not_cyberbullying        0   \n",
       "4      not_cyberbullying        0   \n",
       "...                  ...      ...   \n",
       "39864          ethnicity        4   \n",
       "39865          ethnicity        4   \n",
       "39866          ethnicity        4   \n",
       "39867          ethnicity        4   \n",
       "39868          ethnicity        4   \n",
       "\n",
       "                                        processed_tweets  \n",
       "0                In other word your food wa crapilicious  \n",
       "1                                        Why is so white  \n",
       "2              a classy whore Or more red velvet cupcake  \n",
       "3      meh P thanks for the head up but not too conce...  \n",
       "4      This is an ISIS account pretending to be a Kur...  \n",
       "...                                                  ...  \n",
       "39864  Black ppl aren t expected to do anything depen...  \n",
       "39865  Turner did not withhold his disappointment Tur...  \n",
       "39866  I swear to God This dumb nigger bitch I have g...  \n",
       "39867  Yea fuck you RT IF YOURE A NIGGER FUCKING UNFO...  \n",
       "39868  Bro U gotta chill RT Dog FUCK KP that dumb nig...  \n",
       "\n",
       "[39869 rows x 5 columns]"
      ]
     },
     "execution_count": 8,
     "metadata": {},
     "output_type": "execute_result"
    }
   ],
   "source": [
    "# Applying the preprocess function on the dataset\n",
    "df[\"processed_tweets\"] = df['tweet_text'].apply(preprocess)\n",
    "df"
   ]
  },
  {
   "cell_type": "markdown",
   "metadata": {
    "id": "pUNjRo8Vs1bf"
   },
   "source": [
    "# **Fitting the model**"
   ]
  },
  {
   "cell_type": "code",
   "execution_count": null,
   "metadata": {
    "id": "bNQYwwiH_n9x"
   },
   "outputs": [],
   "source": [
    "#Creating train and test datasets\n",
    "X_train, X_test, y_train, y_test = train_test_split(df[\"processed_tweets\"],df['cb_type'], test_size = 0.2, random_state = 40)\n"
   ]
  },
  {
   "cell_type": "code",
   "execution_count": null,
   "metadata": {
    "colab": {
     "base_uri": "https://localhost:8080/"
    },
    "id": "7mPzgSVsBIMT",
    "outputId": "52cbefea-064b-4a5f-ae9c-12e0380dda30"
   },
   "outputs": [
    {
     "data": {
      "text/plain": [
       "7494                                Fuck off kat and andre\n",
       "17233    Oh really are you above court who prove Narend...\n",
       "35888                 Fuck off you dumb kike loving nigger\n",
       "882      Quem mais sofre bullying Loiras burras Nerds X...\n",
       "5699                             Kandre are SUCH bad sport\n",
       "Name: processed_tweets, dtype: object"
      ]
     },
     "execution_count": 10,
     "metadata": {},
     "output_type": "execute_result"
    }
   ],
   "source": [
    "X_train.head()"
   ]
  },
  {
   "cell_type": "code",
   "execution_count": null,
   "metadata": {
    "colab": {
     "base_uri": "https://localhost:8080/"
    },
    "id": "UBJqOJ6MBMwE",
    "outputId": "f688daed-57cf-4f44-a8a7-0776ebf27c37"
   },
   "outputs": [
    {
     "name": "stdout",
     "output_type": "stream",
     "text": [
      "MultinomialNB\n",
      "              precision    recall  f1-score   support\n",
      "\n",
      "           0       0.88      0.45      0.60      1570\n",
      "           1       0.79      0.97      0.87      1599\n",
      "           2       0.76      0.98      0.86      1620\n",
      "           3       0.86      0.83      0.85      1587\n",
      "           4       0.89      0.89      0.89      1598\n",
      "\n",
      "    accuracy                           0.83      7974\n",
      "   macro avg       0.84      0.83      0.81      7974\n",
      "weighted avg       0.84      0.83      0.81      7974\n",
      "\n",
      "____________________________________________________________\n",
      "RandomForestClassifier\n",
      "              precision    recall  f1-score   support\n",
      "\n",
      "           0       0.76      0.92      0.83      1570\n",
      "           1       0.96      0.94      0.95      1599\n",
      "           2       0.98      0.98      0.98      1620\n",
      "           3       0.95      0.80      0.87      1587\n",
      "           4       0.99      0.98      0.99      1598\n",
      "\n",
      "    accuracy                           0.92      7974\n",
      "   macro avg       0.93      0.92      0.92      7974\n",
      "weighted avg       0.93      0.92      0.92      7974\n",
      "\n",
      "____________________________________________________________\n",
      "SVC\n",
      "              precision    recall  f1-score   support\n",
      "\n",
      "           0       0.78      0.89      0.83      1570\n",
      "           1       0.96      0.95      0.95      1599\n",
      "           2       0.96      0.98      0.97      1620\n",
      "           3       0.96      0.83      0.89      1587\n",
      "           4       0.99      0.98      0.98      1598\n",
      "\n",
      "    accuracy                           0.93      7974\n",
      "   macro avg       0.93      0.92      0.93      7974\n",
      "weighted avg       0.93      0.93      0.93      7974\n",
      "\n",
      "____________________________________________________________\n",
      "XGBClassifier\n",
      "              precision    recall  f1-score   support\n",
      "\n",
      "           0       0.78      0.92      0.85      1570\n",
      "           1       0.97      0.94      0.95      1599\n",
      "           2       0.99      0.98      0.98      1620\n",
      "           3       0.95      0.84      0.89      1587\n",
      "           4       1.00      0.98      0.99      1598\n",
      "\n",
      "    accuracy                           0.93      7974\n",
      "   macro avg       0.94      0.93      0.93      7974\n",
      "weighted avg       0.94      0.93      0.93      7974\n",
      "\n",
      "____________________________________________________________\n"
     ]
    }
   ],
   "source": [
    "#Fitting and checking accuracy of various model\n",
    "models = {'MultinomialNB' : MultinomialNB(), 'RandomForestClassifier' : RandomForestClassifier(),\n",
    "          'SVC' : SVC(), 'XGBClassifier' : XGBClassifier()}\n",
    "\n",
    "\n",
    "\n",
    "for x, y in models.items():\n",
    "  clf = Pipeline([\n",
    "    ('vectorizer_tfidf', TfidfVectorizer()),\n",
    "    (x, y)\n",
    "  ])\n",
    "\n",
    "  clf.fit(X_train, y_train)\n",
    "\n",
    "  y_pred = clf.predict(X_test)\n",
    "\n",
    "  print(x)\n",
    "  print(classification_report(y_test, y_pred))\n",
    "  print('_'*60)\n"
   ]
  },
  {
   "cell_type": "markdown",
   "metadata": {
    "id": "zUFov9jls-D5"
   },
   "source": [
    "# **Hyperparameter Tuning**"
   ]
  },
  {
   "cell_type": "code",
   "execution_count": null,
   "metadata": {
    "id": "k12IYbukL0Si"
   },
   "outputs": [],
   "source": [
    "# Defining a dictionary for hyperparameter tuning\n",
    "params = {\n",
    "    'XGBClassifier__n_estimators': [10, 20, 30, 40, 50],\n",
    "    'XGBClassifier__max_depth': range(1,7),\n",
    "    'XGBClassifier__min_child_weight': range(5),\n",
    "}"
   ]
  },
  {
   "cell_type": "code",
   "execution_count": null,
   "metadata": {
    "id": "kt6dcYfWQPz3"
   },
   "outputs": [],
   "source": [
    "#Using RandomizedSearchCV to find the best parameters\n",
    "clf = Pipeline(steps =[\n",
    "      ('vectorizer_tfidf', TfidfVectorizer()),\n",
    "      ('XGBClassifier' , XGBClassifier())\n",
    "  ])\n",
    "\n",
    "xgbc = RandomizedSearchCV(estimator= clf ,param_distributions= params, cv = 5,  n_iter = 5, return_train_score=False)\n",
    "\n",
    "xgbc.fit(X_train,y_train)\n",
    "result = pd.DataFrame(xgbc.cv_results_)\n"
   ]
  },
  {
   "cell_type": "code",
   "execution_count": null,
   "metadata": {
    "colab": {
     "base_uri": "https://localhost:8080/",
     "height": 357
    },
    "id": "wu8GELEeUzoV",
    "outputId": "43ac5874-08ef-4a4b-a4b0-a6feaadf2348"
   },
   "outputs": [
    {
     "data": {
      "text/html": [
       "\n",
       "  <div id=\"df-e9f43a5b-35ba-48e6-9aef-51828417fd7a\">\n",
       "    <div class=\"colab-df-container\">\n",
       "      <div>\n",
       "<style scoped>\n",
       "    .dataframe tbody tr th:only-of-type {\n",
       "        vertical-align: middle;\n",
       "    }\n",
       "\n",
       "    .dataframe tbody tr th {\n",
       "        vertical-align: top;\n",
       "    }\n",
       "\n",
       "    .dataframe thead th {\n",
       "        text-align: right;\n",
       "    }\n",
       "</style>\n",
       "<table border=\"1\" class=\"dataframe\">\n",
       "  <thead>\n",
       "    <tr style=\"text-align: right;\">\n",
       "      <th></th>\n",
       "      <th>mean_fit_time</th>\n",
       "      <th>std_fit_time</th>\n",
       "      <th>mean_score_time</th>\n",
       "      <th>std_score_time</th>\n",
       "      <th>param_XGBClassifier__n_estimators</th>\n",
       "      <th>param_XGBClassifier__min_child_weight</th>\n",
       "      <th>param_XGBClassifier__max_depth</th>\n",
       "      <th>params</th>\n",
       "      <th>split0_test_score</th>\n",
       "      <th>split1_test_score</th>\n",
       "      <th>split2_test_score</th>\n",
       "      <th>split3_test_score</th>\n",
       "      <th>split4_test_score</th>\n",
       "      <th>mean_test_score</th>\n",
       "      <th>std_test_score</th>\n",
       "      <th>rank_test_score</th>\n",
       "    </tr>\n",
       "  </thead>\n",
       "  <tbody>\n",
       "    <tr>\n",
       "      <th>0</th>\n",
       "      <td>40.208806</td>\n",
       "      <td>1.583870</td>\n",
       "      <td>0.307004</td>\n",
       "      <td>0.103098</td>\n",
       "      <td>40</td>\n",
       "      <td>0</td>\n",
       "      <td>4</td>\n",
       "      <td>{'XGBClassifier__n_estimators': 40, 'XGBClassi...</td>\n",
       "      <td>0.926164</td>\n",
       "      <td>0.923342</td>\n",
       "      <td>0.925067</td>\n",
       "      <td>0.921148</td>\n",
       "      <td>0.927105</td>\n",
       "      <td>0.924565</td>\n",
       "      <td>0.002118</td>\n",
       "      <td>2</td>\n",
       "    </tr>\n",
       "    <tr>\n",
       "      <th>1</th>\n",
       "      <td>49.669624</td>\n",
       "      <td>14.989767</td>\n",
       "      <td>0.231597</td>\n",
       "      <td>0.074883</td>\n",
       "      <td>50</td>\n",
       "      <td>2</td>\n",
       "      <td>4</td>\n",
       "      <td>{'XGBClassifier__n_estimators': 50, 'XGBClassi...</td>\n",
       "      <td>0.928045</td>\n",
       "      <td>0.925223</td>\n",
       "      <td>0.926948</td>\n",
       "      <td>0.923499</td>\n",
       "      <td>0.927732</td>\n",
       "      <td>0.926289</td>\n",
       "      <td>0.001704</td>\n",
       "      <td>1</td>\n",
       "    </tr>\n",
       "    <tr>\n",
       "      <th>2</th>\n",
       "      <td>10.770565</td>\n",
       "      <td>1.013183</td>\n",
       "      <td>0.256993</td>\n",
       "      <td>0.064839</td>\n",
       "      <td>50</td>\n",
       "      <td>4</td>\n",
       "      <td>1</td>\n",
       "      <td>{'XGBClassifier__n_estimators': 50, 'XGBClassi...</td>\n",
       "      <td>0.905628</td>\n",
       "      <td>0.904217</td>\n",
       "      <td>0.903120</td>\n",
       "      <td>0.903590</td>\n",
       "      <td>0.906412</td>\n",
       "      <td>0.904593</td>\n",
       "      <td>0.001241</td>\n",
       "      <td>5</td>\n",
       "    </tr>\n",
       "    <tr>\n",
       "      <th>3</th>\n",
       "      <td>24.204296</td>\n",
       "      <td>1.020519</td>\n",
       "      <td>0.201198</td>\n",
       "      <td>0.040835</td>\n",
       "      <td>40</td>\n",
       "      <td>2</td>\n",
       "      <td>3</td>\n",
       "      <td>{'XGBClassifier__n_estimators': 40, 'XGBClassi...</td>\n",
       "      <td>0.923185</td>\n",
       "      <td>0.921775</td>\n",
       "      <td>0.922088</td>\n",
       "      <td>0.920364</td>\n",
       "      <td>0.922715</td>\n",
       "      <td>0.922025</td>\n",
       "      <td>0.000964</td>\n",
       "      <td>3</td>\n",
       "    </tr>\n",
       "    <tr>\n",
       "      <th>4</th>\n",
       "      <td>16.971922</td>\n",
       "      <td>1.221407</td>\n",
       "      <td>0.176980</td>\n",
       "      <td>0.014465</td>\n",
       "      <td>10</td>\n",
       "      <td>0</td>\n",
       "      <td>6</td>\n",
       "      <td>{'XGBClassifier__n_estimators': 10, 'XGBClassi...</td>\n",
       "      <td>0.914877</td>\n",
       "      <td>0.912996</td>\n",
       "      <td>0.912212</td>\n",
       "      <td>0.910958</td>\n",
       "      <td>0.916601</td>\n",
       "      <td>0.913529</td>\n",
       "      <td>0.001994</td>\n",
       "      <td>4</td>\n",
       "    </tr>\n",
       "  </tbody>\n",
       "</table>\n",
       "</div>\n",
       "      <button class=\"colab-df-convert\" onclick=\"convertToInteractive('df-e9f43a5b-35ba-48e6-9aef-51828417fd7a')\"\n",
       "              title=\"Convert this dataframe to an interactive table.\"\n",
       "              style=\"display:none;\">\n",
       "        \n",
       "  <svg xmlns=\"http://www.w3.org/2000/svg\" height=\"24px\"viewBox=\"0 0 24 24\"\n",
       "       width=\"24px\">\n",
       "    <path d=\"M0 0h24v24H0V0z\" fill=\"none\"/>\n",
       "    <path d=\"M18.56 5.44l.94 2.06.94-2.06 2.06-.94-2.06-.94-.94-2.06-.94 2.06-2.06.94zm-11 1L8.5 8.5l.94-2.06 2.06-.94-2.06-.94L8.5 2.5l-.94 2.06-2.06.94zm10 10l.94 2.06.94-2.06 2.06-.94-2.06-.94-.94-2.06-.94 2.06-2.06.94z\"/><path d=\"M17.41 7.96l-1.37-1.37c-.4-.4-.92-.59-1.43-.59-.52 0-1.04.2-1.43.59L10.3 9.45l-7.72 7.72c-.78.78-.78 2.05 0 2.83L4 21.41c.39.39.9.59 1.41.59.51 0 1.02-.2 1.41-.59l7.78-7.78 2.81-2.81c.8-.78.8-2.07 0-2.86zM5.41 20L4 18.59l7.72-7.72 1.47 1.35L5.41 20z\"/>\n",
       "  </svg>\n",
       "      </button>\n",
       "      \n",
       "  <style>\n",
       "    .colab-df-container {\n",
       "      display:flex;\n",
       "      flex-wrap:wrap;\n",
       "      gap: 12px;\n",
       "    }\n",
       "\n",
       "    .colab-df-convert {\n",
       "      background-color: #E8F0FE;\n",
       "      border: none;\n",
       "      border-radius: 50%;\n",
       "      cursor: pointer;\n",
       "      display: none;\n",
       "      fill: #1967D2;\n",
       "      height: 32px;\n",
       "      padding: 0 0 0 0;\n",
       "      width: 32px;\n",
       "    }\n",
       "\n",
       "    .colab-df-convert:hover {\n",
       "      background-color: #E2EBFA;\n",
       "      box-shadow: 0px 1px 2px rgba(60, 64, 67, 0.3), 0px 1px 3px 1px rgba(60, 64, 67, 0.15);\n",
       "      fill: #174EA6;\n",
       "    }\n",
       "\n",
       "    [theme=dark] .colab-df-convert {\n",
       "      background-color: #3B4455;\n",
       "      fill: #D2E3FC;\n",
       "    }\n",
       "\n",
       "    [theme=dark] .colab-df-convert:hover {\n",
       "      background-color: #434B5C;\n",
       "      box-shadow: 0px 1px 3px 1px rgba(0, 0, 0, 0.15);\n",
       "      filter: drop-shadow(0px 1px 2px rgba(0, 0, 0, 0.3));\n",
       "      fill: #FFFFFF;\n",
       "    }\n",
       "  </style>\n",
       "\n",
       "      <script>\n",
       "        const buttonEl =\n",
       "          document.querySelector('#df-e9f43a5b-35ba-48e6-9aef-51828417fd7a button.colab-df-convert');\n",
       "        buttonEl.style.display =\n",
       "          google.colab.kernel.accessAllowed ? 'block' : 'none';\n",
       "\n",
       "        async function convertToInteractive(key) {\n",
       "          const element = document.querySelector('#df-e9f43a5b-35ba-48e6-9aef-51828417fd7a');\n",
       "          const dataTable =\n",
       "            await google.colab.kernel.invokeFunction('convertToInteractive',\n",
       "                                                     [key], {});\n",
       "          if (!dataTable) return;\n",
       "\n",
       "          const docLinkHtml = 'Like what you see? Visit the ' +\n",
       "            '<a target=\"_blank\" href=https://colab.research.google.com/notebooks/data_table.ipynb>data table notebook</a>'\n",
       "            + ' to learn more about interactive tables.';\n",
       "          element.innerHTML = '';\n",
       "          dataTable['output_type'] = 'display_data';\n",
       "          await google.colab.output.renderOutput(dataTable, element);\n",
       "          const docLink = document.createElement('div');\n",
       "          docLink.innerHTML = docLinkHtml;\n",
       "          element.appendChild(docLink);\n",
       "        }\n",
       "      </script>\n",
       "    </div>\n",
       "  </div>\n",
       "  "
      ],
      "text/plain": [
       "   mean_fit_time  std_fit_time  mean_score_time  std_score_time  \\\n",
       "0      40.208806      1.583870         0.307004        0.103098   \n",
       "1      49.669624     14.989767         0.231597        0.074883   \n",
       "2      10.770565      1.013183         0.256993        0.064839   \n",
       "3      24.204296      1.020519         0.201198        0.040835   \n",
       "4      16.971922      1.221407         0.176980        0.014465   \n",
       "\n",
       "  param_XGBClassifier__n_estimators param_XGBClassifier__min_child_weight  \\\n",
       "0                                40                                     0   \n",
       "1                                50                                     2   \n",
       "2                                50                                     4   \n",
       "3                                40                                     2   \n",
       "4                                10                                     0   \n",
       "\n",
       "  param_XGBClassifier__max_depth  \\\n",
       "0                              4   \n",
       "1                              4   \n",
       "2                              1   \n",
       "3                              3   \n",
       "4                              6   \n",
       "\n",
       "                                              params  split0_test_score  \\\n",
       "0  {'XGBClassifier__n_estimators': 40, 'XGBClassi...           0.926164   \n",
       "1  {'XGBClassifier__n_estimators': 50, 'XGBClassi...           0.928045   \n",
       "2  {'XGBClassifier__n_estimators': 50, 'XGBClassi...           0.905628   \n",
       "3  {'XGBClassifier__n_estimators': 40, 'XGBClassi...           0.923185   \n",
       "4  {'XGBClassifier__n_estimators': 10, 'XGBClassi...           0.914877   \n",
       "\n",
       "   split1_test_score  split2_test_score  split3_test_score  split4_test_score  \\\n",
       "0           0.923342           0.925067           0.921148           0.927105   \n",
       "1           0.925223           0.926948           0.923499           0.927732   \n",
       "2           0.904217           0.903120           0.903590           0.906412   \n",
       "3           0.921775           0.922088           0.920364           0.922715   \n",
       "4           0.912996           0.912212           0.910958           0.916601   \n",
       "\n",
       "   mean_test_score  std_test_score  rank_test_score  \n",
       "0         0.924565        0.002118                2  \n",
       "1         0.926289        0.001704                1  \n",
       "2         0.904593        0.001241                5  \n",
       "3         0.922025        0.000964                3  \n",
       "4         0.913529        0.001994                4  "
      ]
     },
     "execution_count": 15,
     "metadata": {},
     "output_type": "execute_result"
    }
   ],
   "source": [
    "result"
   ]
  },
  {
   "cell_type": "code",
   "execution_count": null,
   "metadata": {
    "colab": {
     "base_uri": "https://localhost:8080/"
    },
    "id": "CfFvWnK2U4Tn",
    "outputId": "c8b5e8fb-09cd-4307-aacf-bc0a52355883"
   },
   "outputs": [
    {
     "name": "stdout",
     "output_type": "stream",
     "text": [
      "              precision    recall  f1-score   support\n",
      "\n",
      "           0       0.76      0.94      0.84      1570\n",
      "           1       0.97      0.93      0.95      1599\n",
      "           2       0.99      0.98      0.98      1620\n",
      "           3       0.95      0.82      0.88      1587\n",
      "           4       1.00      0.98      0.99      1598\n",
      "\n",
      "    accuracy                           0.93      7974\n",
      "   macro avg       0.94      0.93      0.93      7974\n",
      "weighted avg       0.94      0.93      0.93      7974\n",
      "\n"
     ]
    }
   ],
   "source": [
    "pred = xgbc.predict(X_test)\n",
    "print(classification_report(y_test, pred))"
   ]
  },
  {
   "cell_type": "markdown",
   "metadata": {
    "id": "bjPgNN8ytEaR"
   },
   "source": [
    "# **Saving the model**"
   ]
  },
  {
   "cell_type": "code",
   "execution_count": null,
   "metadata": {
    "id": "3wzmu7XWYhxE"
   },
   "outputs": [],
   "source": [
    "#Saving the model\n",
    "with open('cyberbullying_classifier1.pkl', 'wb') as f:\n",
    "  pickle.dump(xgbc, f)"
   ]
  },
  {
   "cell_type": "code",
   "execution_count": null,
   "metadata": {
    "colab": {
     "base_uri": "https://localhost:8080/"
    },
    "id": "WiZRs1tYXK-v",
    "outputId": "88c3257d-731e-4918-cfc0-4c55bde78462"
   },
   "outputs": [
    {
     "name": "stdout",
     "output_type": "stream",
     "text": [
      "              precision    recall  f1-score   support\n",
      "\n",
      "           0       0.76      0.94      0.84      1570\n",
      "           1       0.97      0.93      0.95      1599\n",
      "           2       0.99      0.98      0.98      1620\n",
      "           3       0.95      0.82      0.88      1587\n",
      "           4       1.00      0.98      0.99      1598\n",
      "\n",
      "    accuracy                           0.93      7974\n",
      "   macro avg       0.94      0.93      0.93      7974\n",
      "weighted avg       0.94      0.93      0.93      7974\n",
      "\n"
     ]
    }
   ],
   "source": [
    "#loading and testing the model\n",
    "model = pickle.load(open('cyberbullying_classifier1.pkl','rb'))\n",
    "pred = model.predict(X_test)\n",
    "print(classification_report(y_test, pred))"
   ]
  }
 ],
 "metadata": {
  "colab": {
   "provenance": []
  },
  "gpuClass": "standard",
  "kernelspec": {
   "display_name": "Python 3 (ipykernel)",
   "language": "python",
   "name": "python3"
  },
  "language_info": {
   "name": "python"
  }
 },
 "nbformat": 4,
 "nbformat_minor": 1
}
